{
 "cells": [
  {
   "cell_type": "code",
   "execution_count": 155,
   "metadata": {},
   "outputs": [
    {
     "name": "stdout",
     "output_type": "stream",
     "text": [
      "Species: Iris-setosa\n",
      "Probabilities: {'Iris-setosa': 98.08, 'Iris-versicolor': 1.92, 'Iris-virginica': 0.0}\n"
     ]
    }
   ],
   "source": [
    "model_name = \"logistic_regression_model\"\n",
    "\n",
    "response = !curl --request POST \"http://127.0.0.1:8000/predict\" \\\n",
    "--header \"Content-Type: application/json\" \\\n",
    "--data-raw \"{\\\n",
    "    \\\"PetalLengthCm\\\": 1.3,\\\n",
    "    \\\"PetalWidthCm\\\": 0.2,\\\n",
    "    \\\"model_name\\\": \\\"logistic_regression_model\\\"\\\n",
    "}\"\n",
    "\n",
    "iris, prediction = clean_response(str(response)).values()\n",
    "\n",
    "print(f\"Species: {iris}\")\n",
    "print(f\"Probabilities: {prediction}\")\n"
   ]
  }
 ],
 "metadata": {
  "language_info": {
   "name": "python"
  }
 },
 "nbformat": 4,
 "nbformat_minor": 2
}
